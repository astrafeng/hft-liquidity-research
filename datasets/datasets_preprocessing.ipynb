{
 "cells": [
  {
   "attachments": {},
   "cell_type": "markdown",
   "metadata": {},
   "source": [
    "## Datasets Preprocessing\n",
    "\n",
    "The following Juptyr notebook file is for **pre-processing** the **limit order book (LOB)** and **trade and quote (TAQ)** "
   ]
  },
  {
   "cell_type": "code",
   "execution_count": 6,
   "metadata": {},
   "outputs": [],
   "source": [
    "# Import `gzip` and `csv` libraries to uncompress `gz` files\n",
    "import gzip\n",
    "import csv"
   ]
  },
  {
   "cell_type": "code",
   "execution_count": 8,
   "metadata": {},
   "outputs": [],
   "source": [
    "## DECOMPRESS SCRIPT\n",
    "\n",
    "with gzip.open('GME_LOB_20220314.csv.gz', 'rt') as gz_file:\n",
    "    # Read decompress data\n",
    "    data = gz_file.read()\n",
    "    with open('GME_LOB_20220314.csv.gz'[:-3], mode = 'wt') as out_file:\n",
    "        out_file.write(data)"
   ]
  },
  {
   "cell_type": "code",
   "execution_count": null,
   "metadata": {},
   "outputs": [],
   "source": []
  }
 ],
 "metadata": {
  "kernelspec": {
   "display_name": "Python 3",
   "language": "python",
   "name": "python3"
  },
  "language_info": {
   "codemirror_mode": {
    "name": "ipython",
    "version": 3
   },
   "file_extension": ".py",
   "mimetype": "text/x-python",
   "name": "python",
   "nbconvert_exporter": "python",
   "pygments_lexer": "ipython3",
   "version": "3.11.2"
  },
  "orig_nbformat": 4
 },
 "nbformat": 4,
 "nbformat_minor": 2
}
